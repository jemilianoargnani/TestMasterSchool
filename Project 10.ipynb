{
 "cells": [
  {
   "cell_type": "markdown",
   "metadata": {},
   "source": [
    "# Start Of Pipeline Script"
   ]
  },
  {
   "cell_type": "code",
   "execution_count": 2,
   "metadata": {},
   "outputs": [
    {
     "data": {
      "text/html": [
       "<div>\n",
       "<style scoped>\n",
       "    .dataframe tbody tr th:only-of-type {\n",
       "        vertical-align: middle;\n",
       "    }\n",
       "\n",
       "    .dataframe tbody tr th {\n",
       "        vertical-align: top;\n",
       "    }\n",
       "\n",
       "    .dataframe thead th {\n",
       "        text-align: right;\n",
       "    }\n",
       "</style>\n",
       "<table border=\"1\" class=\"dataframe\">\n",
       "  <thead>\n",
       "    <tr style=\"text-align: right;\">\n",
       "      <th></th>\n",
       "      <th>video_id</th>\n",
       "      <th>region</th>\n",
       "      <th>trending_date</th>\n",
       "      <th>channel_title</th>\n",
       "      <th>category_title</th>\n",
       "      <th>publish_time</th>\n",
       "      <th>views</th>\n",
       "      <th>likes</th>\n",
       "      <th>dislikes</th>\n",
       "      <th>comment_count</th>\n",
       "    </tr>\n",
       "    <tr>\n",
       "      <th>record_id</th>\n",
       "      <th></th>\n",
       "      <th></th>\n",
       "      <th></th>\n",
       "      <th></th>\n",
       "      <th></th>\n",
       "      <th></th>\n",
       "      <th></th>\n",
       "      <th></th>\n",
       "      <th></th>\n",
       "      <th></th>\n",
       "    </tr>\n",
       "  </thead>\n",
       "  <tbody>\n",
       "    <tr>\n",
       "      <th>1</th>\n",
       "      <td>8YEGqrtsxBc</td>\n",
       "      <td>France</td>\n",
       "      <td>2017-11-14</td>\n",
       "      <td>INTHEPANDA</td>\n",
       "      <td>Film &amp; Animation</td>\n",
       "      <td>2017-11-12</td>\n",
       "      <td>102804</td>\n",
       "      <td>6306</td>\n",
       "      <td>179</td>\n",
       "      <td>421</td>\n",
       "    </tr>\n",
       "    <tr>\n",
       "      <th>2</th>\n",
       "      <td>oo12BXzMkfI</td>\n",
       "      <td>France</td>\n",
       "      <td>2017-11-14</td>\n",
       "      <td>大劇獨播</td>\n",
       "      <td>Film &amp; Animation</td>\n",
       "      <td>2017-11-13</td>\n",
       "      <td>48796</td>\n",
       "      <td>99</td>\n",
       "      <td>19</td>\n",
       "      <td>73</td>\n",
       "    </tr>\n",
       "    <tr>\n",
       "      <th>3</th>\n",
       "      <td>nWGKA8OULxU</td>\n",
       "      <td>France</td>\n",
       "      <td>2017-11-14</td>\n",
       "      <td>Beni Affet</td>\n",
       "      <td>Film &amp; Animation</td>\n",
       "      <td>2017-11-13</td>\n",
       "      <td>123529</td>\n",
       "      <td>1370</td>\n",
       "      <td>180</td>\n",
       "      <td>255</td>\n",
       "    </tr>\n",
       "    <tr>\n",
       "      <th>4</th>\n",
       "      <td>RKgk0DXZCvQ</td>\n",
       "      <td>France</td>\n",
       "      <td>2017-11-14</td>\n",
       "      <td>esepelisa</td>\n",
       "      <td>Film &amp; Animation</td>\n",
       "      <td>2017-11-13</td>\n",
       "      <td>6708</td>\n",
       "      <td>98</td>\n",
       "      <td>4</td>\n",
       "      <td>31</td>\n",
       "    </tr>\n",
       "    <tr>\n",
       "      <th>5</th>\n",
       "      <td>SnHtzkQZggA</td>\n",
       "      <td>France</td>\n",
       "      <td>2017-11-14</td>\n",
       "      <td>تركييتنا - bizim Türkiye</td>\n",
       "      <td>Film &amp; Animation</td>\n",
       "      <td>2017-11-13</td>\n",
       "      <td>15899</td>\n",
       "      <td>142</td>\n",
       "      <td>10</td>\n",
       "      <td>7</td>\n",
       "    </tr>\n",
       "  </tbody>\n",
       "</table>\n",
       "</div>"
      ],
      "text/plain": [
       "              video_id  region trending_date             channel_title  \\\n",
       "record_id                                                                \n",
       "1          8YEGqrtsxBc  France    2017-11-14                INTHEPANDA   \n",
       "2          oo12BXzMkfI  France    2017-11-14                      大劇獨播   \n",
       "3          nWGKA8OULxU  France    2017-11-14                Beni Affet   \n",
       "4          RKgk0DXZCvQ  France    2017-11-14                 esepelisa   \n",
       "5          SnHtzkQZggA  France    2017-11-14  تركييتنا - bizim Türkiye   \n",
       "\n",
       "             category_title publish_time   views  likes  dislikes  \\\n",
       "record_id                                                           \n",
       "1          Film & Animation   2017-11-12  102804   6306       179   \n",
       "2          Film & Animation   2017-11-13   48796     99        19   \n",
       "3          Film & Animation   2017-11-13  123529   1370       180   \n",
       "4          Film & Animation   2017-11-13    6708     98         4   \n",
       "5          Film & Animation   2017-11-13   15899    142        10   \n",
       "\n",
       "           comment_count  \n",
       "record_id                 \n",
       "1                    421  \n",
       "2                     73  \n",
       "3                    255  \n",
       "4                     31  \n",
       "5                      7  "
      ]
     },
     "execution_count": 2,
     "metadata": {},
     "output_type": "execute_result"
    }
   ],
   "source": [
    "import pandas as pd\n",
    "import psycopg2\n",
    "from sqlalchemy import create_engine\n",
    "\n",
    "db_config = {'user': 'practicum_student',\n",
    "             'pwd': 's65BlTKV3faNIGhmvJVzOqhs',\n",
    "             'host': 'rc1b-wcoijxj3yxfsf3fs.mdb.yandexcloud.net',\n",
    "             'port': 6432,\n",
    "             'db': 'data-analyst-youtube-data'}\n",
    "\n",
    "engine = create_engine('postgresql://{}:{}@{}:{}/{}'.format(db_config['user'],\n",
    "                                                            db_config['pwd'],\n",
    "                                                            db_config['host'],\n",
    "                                                            db_config['port'],\n",
    "                                                            db_config['db']))\n",
    "query = '''\n",
    "           SELECT *\n",
    "           FROM trending_vids\n",
    "        '''\n",
    "\n",
    "trending_vids = pd.io.sql.read_sql(query, con = engine, index_col = 'record_id')\n",
    "\n",
    "#trending_vids.to_csv('trending_vids.csv', index = False)\n",
    "\n",
    "trending_vids.head(5) "
   ]
  },
  {
   "cell_type": "markdown",
   "metadata": {},
   "source": [
    "Apperantly this isn't the table I need for this project (even though it has way more information and can have more powerful analysis) I'll keep it for autonomous analysis for myself. <br>\n",
    "Now I'll run the query on the required table for this project"
   ]
  },
  {
   "cell_type": "code",
   "execution_count": 3,
   "metadata": {},
   "outputs": [
    {
     "data": {
      "text/html": [
       "<div>\n",
       "<style scoped>\n",
       "    .dataframe tbody tr th:only-of-type {\n",
       "        vertical-align: middle;\n",
       "    }\n",
       "\n",
       "    .dataframe tbody tr th {\n",
       "        vertical-align: top;\n",
       "    }\n",
       "\n",
       "    .dataframe thead th {\n",
       "        text-align: right;\n",
       "    }\n",
       "</style>\n",
       "<table border=\"1\" class=\"dataframe\">\n",
       "  <thead>\n",
       "    <tr style=\"text-align: right;\">\n",
       "      <th></th>\n",
       "      <th>region</th>\n",
       "      <th>trending_date</th>\n",
       "      <th>category_title</th>\n",
       "      <th>videos_count</th>\n",
       "    </tr>\n",
       "    <tr>\n",
       "      <th>record_id</th>\n",
       "      <th></th>\n",
       "      <th></th>\n",
       "      <th></th>\n",
       "      <th></th>\n",
       "    </tr>\n",
       "  </thead>\n",
       "  <tbody>\n",
       "    <tr>\n",
       "      <th>1</th>\n",
       "      <td>France</td>\n",
       "      <td>2017-11-14</td>\n",
       "      <td>Autos &amp; Vehicles</td>\n",
       "      <td>8</td>\n",
       "    </tr>\n",
       "    <tr>\n",
       "      <th>2</th>\n",
       "      <td>France</td>\n",
       "      <td>2017-11-15</td>\n",
       "      <td>Autos &amp; Vehicles</td>\n",
       "      <td>2</td>\n",
       "    </tr>\n",
       "    <tr>\n",
       "      <th>3</th>\n",
       "      <td>France</td>\n",
       "      <td>2017-11-16</td>\n",
       "      <td>Autos &amp; Vehicles</td>\n",
       "      <td>6</td>\n",
       "    </tr>\n",
       "    <tr>\n",
       "      <th>4</th>\n",
       "      <td>France</td>\n",
       "      <td>2017-11-17</td>\n",
       "      <td>Autos &amp; Vehicles</td>\n",
       "      <td>8</td>\n",
       "    </tr>\n",
       "    <tr>\n",
       "      <th>5</th>\n",
       "      <td>France</td>\n",
       "      <td>2017-11-18</td>\n",
       "      <td>Autos &amp; Vehicles</td>\n",
       "      <td>4</td>\n",
       "    </tr>\n",
       "  </tbody>\n",
       "</table>\n",
       "</div>"
      ],
      "text/plain": [
       "           region trending_date    category_title  videos_count\n",
       "record_id                                                      \n",
       "1          France    2017-11-14  Autos & Vehicles             8\n",
       "2          France    2017-11-15  Autos & Vehicles             2\n",
       "3          France    2017-11-16  Autos & Vehicles             6\n",
       "4          France    2017-11-17  Autos & Vehicles             8\n",
       "5          France    2017-11-18  Autos & Vehicles             4"
      ]
     },
     "execution_count": 3,
     "metadata": {},
     "output_type": "execute_result"
    }
   ],
   "source": [
    "query = '''\n",
    "           SELECT *\n",
    "           FROM trending_by_time\n",
    "        '''\n",
    "\n",
    "trending_by_time = pd.io.sql.read_sql(query, con = engine, index_col = 'record_id')\n",
    "\n",
    "#trending_by_time.to_csv('trending_by_time.csv', index = False)\n",
    "\n",
    "trending_by_time.head(5) "
   ]
  },
  {
   "cell_type": "markdown",
   "metadata": {},
   "source": [
    "Before continuing to the presentaion and dashboard I'll check missing values and if I have duplicate rows in the data "
   ]
  },
  {
   "cell_type": "code",
   "execution_count": 4,
   "metadata": {},
   "outputs": [
    {
     "name": "stdout",
     "output_type": "stream",
     "text": [
      "<class 'pandas.core.frame.DataFrame'>\n",
      "Int64Index: 12343 entries, 1 to 12343\n",
      "Data columns (total 4 columns):\n",
      " #   Column          Non-Null Count  Dtype         \n",
      "---  ------          --------------  -----         \n",
      " 0   region          12343 non-null  object        \n",
      " 1   trending_date   12343 non-null  datetime64[ns]\n",
      " 2   category_title  12343 non-null  object        \n",
      " 3   videos_count    12343 non-null  int64         \n",
      "dtypes: datetime64[ns](1), int64(1), object(2)\n",
      "memory usage: 482.1+ KB\n"
     ]
    }
   ],
   "source": [
    "trending_by_time.info()"
   ]
  },
  {
   "cell_type": "code",
   "execution_count": 9,
   "metadata": {},
   "outputs": [
    {
     "data": {
      "text/plain": [
       "False    12343\n",
       "dtype: int64"
      ]
     },
     "execution_count": 9,
     "metadata": {},
     "output_type": "execute_result"
    }
   ],
   "source": [
    "trending_by_time.duplicated().value_counts()"
   ]
  },
  {
   "cell_type": "markdown",
   "metadata": {},
   "source": [
    "### All Good I can Continue to the Dashboard and Presentation now"
   ]
  }
 ],
 "metadata": {
  "kernelspec": {
   "display_name": "Python 3",
   "language": "python",
   "name": "python3"
  },
  "language_info": {
   "codemirror_mode": {
    "name": "ipython",
    "version": 3
   },
   "file_extension": ".py",
   "mimetype": "text/x-python",
   "name": "python",
   "nbconvert_exporter": "python",
   "pygments_lexer": "ipython3",
   "version": "3.7.6"
  }
 },
 "nbformat": 4,
 "nbformat_minor": 2
}
